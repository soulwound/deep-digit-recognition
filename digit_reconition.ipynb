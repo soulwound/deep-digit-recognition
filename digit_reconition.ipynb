{
 "cells": [
  {
   "cell_type": "code",
   "execution_count": 1,
   "metadata": {},
   "outputs": [],
   "source": [
    "from keras.datasets import mnist\n",
    "import numpy as np\n",
    "import matplotlib.pyplot as plt\n",
    "\n",
    "%matplotlib inline\n",
    "\n",
    "(x_train, y_train), (x_test, y_test) = mnist.load_data()\n",
    "\n",
    "images = x_train\n",
    "labels = y_train\n",
    "\n",
    "  # one hot encode target values\n",
    "#y_train = to_categorical(y_train)\n",
    "#y_test = to_categorical(y_test)"
   ]
  },
  {
   "cell_type": "code",
   "execution_count": 27,
   "metadata": {},
   "outputs": [],
   "source": [
    "def relu(x):\n",
    "    return (x > 0) * x\n",
    "\n",
    "def relu2deriv(out):\n",
    "    return out > 0"
   ]
  },
  {
   "cell_type": "code",
   "execution_count": 3,
   "metadata": {},
   "outputs": [],
   "source": [
    "test_images = x_test\n",
    "test_labels = y_test"
   ]
  },
  {
   "cell_type": "code",
   "execution_count": 5,
   "metadata": {},
   "outputs": [],
   "source": [
    "inputs = np.zeros((60000, 784))\n",
    "for i in range(len(images)):\n",
    "    inputs[i] = np.concatenate(images[i])\n",
    "    for j in range(len(inputs[i])):\n",
    "        inputs[i][j] /= 255\n",
    "\n",
    "\n",
    "test = np.zeros((10000, 784))\n",
    "for i in range(len(test_images)):\n",
    "    test[i] = np.concatenate(test_images[i])\n",
    "    for j in range(len(test[i])):\n",
    "        test[i][j] /= 255\n",
    "\n"
   ]
  },
  {
   "cell_type": "code",
   "execution_count": 168,
   "metadata": {},
   "outputs": [
    {
     "name": "stdout",
     "output_type": "stream",
     "text": [
      "[[0.04758612 0.07360592 0.05329361 ... 0.08924899 0.08659656 0.02492939]\n",
      " [0.00125963 0.05726402 0.03981074 ... 0.04790714 0.01709821 0.09470576]\n",
      " [0.06507048 0.09324536 0.03846057 ... 0.05217756 0.0545446  0.0412135 ]\n",
      " ...\n",
      " [0.05238059 0.060852   0.07674754 ... 0.04201625 0.09728484 0.09242763]\n",
      " [0.08021937 0.07318573 0.00391991 ... 0.07438519 0.01793049 0.01709303]\n",
      " [0.09275556 0.06728746 0.0005179  ... 0.02323036 0.06129973 0.03606209]]\n"
     ]
    }
   ],
   "source": [
    "weights_1 = np.random.rand(16, 784)/10 # Веса от входному слою, к скрытому слою из 16 нейронов\n",
    "weights_2 = np.random.rand(10, 16) # Веса от скрытого слоя к выходному слою\n",
    "print(weights_1)"
   ]
  },
  {
   "cell_type": "code",
   "execution_count": null,
   "metadata": {},
   "outputs": [
    {
     "name": "stdout",
     "output_type": "stream",
     "text": [
      "[[0.04758612 0.07360592 0.05329361 ... 0.08924899 0.08659656 0.02492939]\n",
      " [0.00125963 0.05726402 0.03981074 ... 0.04790714 0.01709821 0.09470576]\n",
      " [0.06507048 0.09324536 0.03846057 ... 0.05217756 0.0545446  0.0412135 ]\n",
      " ...\n",
      " [0.05238059 0.060852   0.07674754 ... 0.04201625 0.09728484 0.09242763]\n",
      " [0.08021937 0.07318573 0.00391991 ... 0.07438519 0.01793049 0.01709303]\n",
      " [0.09275556 0.06728746 0.0005179  ... 0.02323036 0.06129973 0.03606209]]\n"
     ]
    }
   ],
   "source": [
    "weights_1 = np.random.rand(784, 16)/10 # Веса от входному слою, к скрытому слою из 16 нейронов\n",
    "weights_2 = np.random.rand(16, 10) # Веса от скрытого слоя к выходному слою\n",
    "print(weights_1)"
   ]
  },
  {
   "cell_type": "markdown",
   "metadata": {},
   "source": []
  },
  {
   "cell_type": "code",
   "execution_count": 144,
   "metadata": {},
   "outputs": [],
   "source": [
    "alpha = 0.001"
   ]
  },
  {
   "cell_type": "code",
   "execution_count": 12,
   "metadata": {},
   "outputs": [],
   "source": [
    "def predict(data, weight_1, weight_2):\n",
    "    return np.dot(weight_2, np.dot(weight_1, data))"
   ]
  },
  {
   "cell_type": "code",
   "execution_count": 10,
   "metadata": {},
   "outputs": [],
   "source": [
    "def proccess_labels(labels):\n",
    "    out = np.zeros((len(labels), 10))\n",
    "    for i in range(len(out)):\n",
    "        out[i][labels[i]] = 1\n",
    "    return out"
   ]
  },
  {
   "cell_type": "code",
   "execution_count": 11,
   "metadata": {},
   "outputs": [
    {
     "data": {
      "text/plain": [
       "array([0., 0., 0., 0., 0., 1., 0., 0., 0., 0.])"
      ]
     },
     "execution_count": 11,
     "metadata": {},
     "output_type": "execute_result"
    }
   ],
   "source": [
    "new_labels = proccess_labels(labels)\n",
    "new_labels[0]"
   ]
  },
  {
   "cell_type": "code",
   "execution_count": 171,
   "metadata": {},
   "outputs": [],
   "source": [
    "def train(epochs, true_labels):\n",
    "    global weights_1, weights_2\n",
    "    for iteration in range(epochs):\n",
    "        layer_2_error = 0\n",
    "        for i in range(2):\n",
    "            layer_0 = inputs[i]\n",
    "            layer_1 = relu(np.dot(weights_1, layer_0))\n",
    "            layer_2 = np.dot(weights_2, layer_1)\n",
    "\n",
    "            #layer_2_error += np.sum((layer_2 - true_labels[i]) ** 2)\n",
    "            layer_2_delta = layer_2 - true_labels[i]\n",
    "            layer_1_delta = layer_2_delta.dot(weights_2.T)\n",
    "            print(alpha * layer_2.dot(layer_2_delta))\n",
    "            print(alpha * layer_1.T.dot(layer_1_delta))\n",
    "            print(layer_2_delta.T.shape)\n",
    "            #print(layer_2_delta)\n",
    "            #print(layer_2)\n",
    "            #print(np.dot(weights_1, layer_0))\n",
    "            #print(weights_1)\n",
    "            #print(weights_2)\n",
    "            #print(layer_0)\n",
    "            #weights_2 -= alpha * layer_2.dot(layer_2_delta)\n",
    "            #weights_1 -= alpha * layer_1.dot(layer_1_delta)\n",
    "        #print(f'Error: {layer_2_error}')"
   ]
  },
  {
   "cell_type": "code",
   "execution_count": 172,
   "metadata": {},
   "outputs": [
    {
     "ename": "ValueError",
     "evalue": "shapes (10,) and (16,10) not aligned: 10 (dim 0) != 16 (dim 0)",
     "output_type": "error",
     "traceback": [
      "\u001b[1;31m---------------------------------------------------------------------------\u001b[0m",
      "\u001b[1;31mValueError\u001b[0m                                Traceback (most recent call last)",
      "Cell \u001b[1;32mIn[172], line 1\u001b[0m\n\u001b[1;32m----> 1\u001b[0m \u001b[43mtrain\u001b[49m\u001b[43m(\u001b[49m\u001b[38;5;241;43m10\u001b[39;49m\u001b[43m,\u001b[49m\u001b[43m \u001b[49m\u001b[43mnew_labels\u001b[49m\u001b[43m)\u001b[49m\n",
      "Cell \u001b[1;32mIn[171], line 12\u001b[0m, in \u001b[0;36mtrain\u001b[1;34m(epochs, true_labels)\u001b[0m\n\u001b[0;32m     10\u001b[0m \u001b[38;5;66;03m#layer_2_error += np.sum((layer_2 - true_labels[i]) ** 2)\u001b[39;00m\n\u001b[0;32m     11\u001b[0m layer_2_delta \u001b[38;5;241m=\u001b[39m layer_2 \u001b[38;5;241m-\u001b[39m true_labels[i]\n\u001b[1;32m---> 12\u001b[0m layer_1_delta \u001b[38;5;241m=\u001b[39m \u001b[43mlayer_2_delta\u001b[49m\u001b[38;5;241;43m.\u001b[39;49m\u001b[43mdot\u001b[49m\u001b[43m(\u001b[49m\u001b[43mweights_2\u001b[49m\u001b[38;5;241;43m.\u001b[39;49m\u001b[43mT\u001b[49m\u001b[43m)\u001b[49m\n\u001b[0;32m     13\u001b[0m \u001b[38;5;28mprint\u001b[39m(alpha \u001b[38;5;241m*\u001b[39m layer_2\u001b[38;5;241m.\u001b[39mdot(layer_2_delta))\n\u001b[0;32m     14\u001b[0m \u001b[38;5;28mprint\u001b[39m(alpha \u001b[38;5;241m*\u001b[39m layer_1\u001b[38;5;241m.\u001b[39mT\u001b[38;5;241m.\u001b[39mdot(layer_1_delta))\n",
      "\u001b[1;31mValueError\u001b[0m: shapes (10,) and (16,10) not aligned: 10 (dim 0) != 16 (dim 0)"
     ]
    }
   ],
   "source": [
    "train(10, new_labels)"
   ]
  },
  {
   "cell_type": "code",
   "execution_count": null,
   "metadata": {},
   "outputs": [],
   "source": []
  },
  {
   "cell_type": "code",
   "execution_count": 15,
   "metadata": {},
   "outputs": [
    {
     "data": {
      "text/plain": [
       "array([4.67605764, 5.29175452, 4.49969179, 5.4353332 , 4.00039347,\n",
       "       3.86008087, 4.39995793, 5.79397606, 4.51901898, 4.79520541])"
      ]
     },
     "execution_count": 15,
     "metadata": {},
     "output_type": "execute_result"
    }
   ],
   "source": [
    "predict(test[1], weights_1, weights_2)"
   ]
  }
 ],
 "metadata": {
  "kernelspec": {
   "display_name": "Python 3",
   "language": "python",
   "name": "python3"
  },
  "language_info": {
   "codemirror_mode": {
    "name": "ipython",
    "version": 3
   },
   "file_extension": ".py",
   "mimetype": "text/x-python",
   "name": "python",
   "nbconvert_exporter": "python",
   "pygments_lexer": "ipython3",
   "version": "3.8.10"
  }
 },
 "nbformat": 4,
 "nbformat_minor": 2
}
