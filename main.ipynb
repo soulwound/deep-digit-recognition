{
 "cells": [
  {
   "cell_type": "code",
   "execution_count": 52,
   "metadata": {},
   "outputs": [],
   "source": [
    "from keras.datasets import mnist\n",
    "import numpy as np\n",
    "import matplotlib.pyplot as plt\n",
    "\n",
    "%matplotlib inline\n",
    "\n",
    "(x_train, y_train), (x_test, y_test) = mnist.load_data()\n",
    "\n",
    "images = x_train\n",
    "labels = y_train\n",
    "\n",
    "  # one hot encode target values\n",
    "#y_train = to_categorical(y_train)\n",
    "#y_test = to_categorical(y_test)"
   ]
  },
  {
   "cell_type": "code",
   "execution_count": 98,
   "metadata": {},
   "outputs": [],
   "source": [
    "test_images = x_test\n",
    "test_labels = y_test"
   ]
  },
  {
   "cell_type": "code",
   "execution_count": null,
   "metadata": {},
   "outputs": [],
   "source": [
    "inputs = np.zeros((60000, 784))\n",
    "for i in range(len(images)):\n",
    "    inputs[i] = np.concatenate(images[i])\n",
    "    for j in range(len(inputs[i])):\n",
    "        inputs[i][j] /= 255\n",
    "\n",
    "\n",
    "test = np.zeros((10000, 784))\n",
    "for i in range(len(test_images)):\n",
    "    test[i] = np.concatenate(test_images[i])\n",
    "    for j in range(len(test[i])):\n",
    "        test[i][j] /= 255\n",
    "\n"
   ]
  },
  {
   "cell_type": "code",
   "execution_count": null,
   "metadata": {},
   "outputs": [],
   "source": [
    "for i in range(len(labels[:100])):\n",
    "    print(i, labels[i])"
   ]
  },
  {
   "cell_type": "markdown",
   "metadata": {},
   "source": [
    "#### Параметры сети"
   ]
  },
  {
   "cell_type": "code",
   "execution_count": 83,
   "metadata": {},
   "outputs": [],
   "source": [
    "weights = np.random.rand(10, 784)\n",
    "alpha = 0.005"
   ]
  },
  {
   "cell_type": "markdown",
   "metadata": {},
   "source": [
    "#### Функция предсказания"
   ]
  },
  {
   "cell_type": "code",
   "execution_count": 5,
   "metadata": {},
   "outputs": [],
   "source": [
    "def predict(data, weight):\n",
    "    return np.dot(weight, data)"
   ]
  },
  {
   "cell_type": "markdown",
   "metadata": {},
   "source": [
    "#### Преобразование labels\n",
    "\n",
    "Нам нужно преобразовать заголовок в виде 2 в заголовок в виде [0,0,1,0,0,0,0,0,0,0]"
   ]
  },
  {
   "cell_type": "code",
   "execution_count": 6,
   "metadata": {},
   "outputs": [],
   "source": [
    "def proccess_labels(labels):\n",
    "    out = np.zeros((len(labels), 10))\n",
    "    for i in range(len(out)):\n",
    "        out[i][labels[i]] = 1\n",
    "    return out"
   ]
  },
  {
   "cell_type": "code",
   "execution_count": null,
   "metadata": {},
   "outputs": [],
   "source": [
    "new_labels = proccess_labels(labels)\n",
    "new_labels[0]"
   ]
  },
  {
   "cell_type": "markdown",
   "metadata": {},
   "source": [
    "#### Фукнция обучения"
   ]
  },
  {
   "cell_type": "code",
   "execution_count": 9,
   "metadata": {},
   "outputs": [],
   "source": [
    "def calculate_weight_deltas(delta, input):\n",
    "    out = np.zeros((len(delta), len(input)))\n",
    "    for i in range(len(delta)):\n",
    "        out[i] = input * delta[i]\n",
    "    return out"
   ]
  },
  {
   "cell_type": "markdown",
   "metadata": {},
   "source": [
    "#### Функция тренировки(подгонка весов)"
   ]
  },
  {
   "cell_type": "code",
   "execution_count": 67,
   "metadata": {},
   "outputs": [],
   "source": [
    "def train(epochs, true):\n",
    "    for e in range(epochs):\n",
    "        print('Epoch: ', e+1)\n",
    "        for i in range(len(inputs)):\n",
    "            pred = predict(inputs[i], weights)\n",
    "            #print('Prediction: ', pred)\n",
    "            #print('Label: ', true[i])\n",
    "            error = (pred - true[i]) ** 2\n",
    "            #print('Error: ', error)\n",
    "            delta = pred - true[i]\n",
    "            #print('Delta: ', delta)\n",
    "            #print('Weights: ', weights)\n",
    "            weight_deltas = calculate_weight_deltas(delta, inputs[i])\n",
    "            for i in range(len(weights)):\n",
    "                weights[i] -= alpha * weight_deltas[i]\n",
    "\n",
    "        #print('================================')"
   ]
  },
  {
   "cell_type": "code",
   "execution_count": null,
   "metadata": {},
   "outputs": [],
   "source": [
    "train(100, new_labels)"
   ]
  },
  {
   "cell_type": "code",
   "execution_count": null,
   "metadata": {},
   "outputs": [],
   "source": [
    "print(test_labels[1])\n",
    "predict(test[1], weights)\n"
   ]
  },
  {
   "cell_type": "code",
   "execution_count": null,
   "metadata": {},
   "outputs": [],
   "source": [
    "a = weights[1] * inputs[4]\n",
    "matrix = np.zeros((28, 28))\n",
    "matrix = np.random.rand(28, 28)\n",
    "for i in range(28):\n",
    "    vector = a[i*28:(i*28)+28] * 255\n",
    "    matrix[i] = vector\n",
    "plt.imshow(matrix, cmap='gray')\n"
   ]
  },
  {
   "cell_type": "code",
   "execution_count": null,
   "metadata": {},
   "outputs": [],
   "source": [
    "plt.imshow(np.random.rand(28, 28), cmap='gray')\n",
    "plt.imshow(x_train[22], cmap='gray')"
   ]
  }
 ],
 "metadata": {
  "kernelspec": {
   "display_name": "Python 3",
   "language": "python",
   "name": "python3"
  },
  "language_info": {
   "codemirror_mode": {
    "name": "ipython",
    "version": 3
   },
   "file_extension": ".py",
   "mimetype": "text/x-python",
   "name": "python",
   "nbconvert_exporter": "python",
   "pygments_lexer": "ipython3",
   "version": "3.8.10"
  }
 },
 "nbformat": 4,
 "nbformat_minor": 2
}
